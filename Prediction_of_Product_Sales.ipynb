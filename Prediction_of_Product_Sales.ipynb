{
  "nbformat": 4,
  "nbformat_minor": 0,
  "metadata": {
    "colab": {
      "provenance": [],
      "authorship_tag": "ABX9TyNPU06LYbZSQaswLicHUMRn",
      "include_colab_link": true
    },
    "kernelspec": {
      "name": "python3",
      "display_name": "Python 3"
    },
    "language_info": {
      "name": "python"
    }
  },
  "cells": [
    {
      "cell_type": "markdown",
      "metadata": {
        "id": "view-in-github",
        "colab_type": "text"
      },
      "source": [
        "<a href=\"https://colab.research.google.com/github/MariemShn/Prediction-of-Product-Sales/blob/main/Prediction_of_Product_Sales.ipynb\" target=\"_parent\"><img src=\"https://colab.research.google.com/assets/colab-badge.svg\" alt=\"Open In Colab\"/></a>"
      ]
    },
    {
      "cell_type": "markdown",
      "source": [
        "# Prediction of Product Sales"
      ],
      "metadata": {
        "id": "34SyRvAhb7Ox"
      }
    },
    {
      "cell_type": "markdown",
      "source": [
        "- Author : Mariem Sahnoun"
      ],
      "metadata": {
        "id": "Rr7W-2aXfX7g"
      }
    },
    {
      "cell_type": "markdown",
      "source": [
        "## Project Overview"
      ],
      "metadata": {
        "id": "ahQXskLUcr3o"
      }
    },
    {
      "cell_type": "code",
      "source": [],
      "metadata": {
        "id": "u6KpWCJxfm_D"
      },
      "execution_count": null,
      "outputs": []
    },
    {
      "cell_type": "markdown",
      "source": [
        "## Load and inspect Data"
      ],
      "metadata": {
        "id": "J_kox6A5dB7s"
      }
    },
    {
      "cell_type": "code",
      "source": [],
      "metadata": {
        "id": "rP4Gnua9fnsJ"
      },
      "execution_count": null,
      "outputs": []
    },
    {
      "cell_type": "markdown",
      "source": [
        "## Clean Data"
      ],
      "metadata": {
        "id": "xwREXJWndCO9"
      }
    },
    {
      "cell_type": "code",
      "source": [],
      "metadata": {
        "id": "LYBKGxfAfoNH"
      },
      "execution_count": null,
      "outputs": []
    },
    {
      "cell_type": "markdown",
      "source": [
        "## Exploratory Data Analysis"
      ],
      "metadata": {
        "id": "JzeUe5I3dCXa"
      }
    },
    {
      "cell_type": "code",
      "source": [],
      "metadata": {
        "id": "HGJSRBGHfpqS"
      },
      "execution_count": null,
      "outputs": []
    },
    {
      "cell_type": "markdown",
      "source": [
        "## Feature Inspection"
      ],
      "metadata": {
        "id": "cYh8_ZC1daHP"
      }
    },
    {
      "cell_type": "code",
      "source": [],
      "metadata": {
        "id": "QsucJ7MDfrUZ"
      },
      "execution_count": null,
      "outputs": []
    }
  ]
}